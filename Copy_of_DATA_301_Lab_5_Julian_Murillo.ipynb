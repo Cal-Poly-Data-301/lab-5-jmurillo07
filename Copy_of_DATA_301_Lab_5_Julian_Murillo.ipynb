{
  "nbformat": 4,
  "nbformat_minor": 0,
  "metadata": {
    "kernelspec": {
      "display_name": "Python 3",
      "language": "python",
      "name": "python3"
    },
    "language_info": {
      "codemirror_mode": {
        "name": "ipython",
        "version": 3
      },
      "file_extension": ".py",
      "mimetype": "text/x-python",
      "name": "python",
      "nbconvert_exporter": "python",
      "pygments_lexer": "ipython3",
      "version": "3.6.8"
    },
    "colab": {
      "name": "Copy of DATA 301 Lab 5 - Julian Murillo",
      "provenance": [],
      "collapsed_sections": [],
      "include_colab_link": true
    }
  },
  "cells": [
    {
      "cell_type": "markdown",
      "metadata": {
        "id": "view-in-github",
        "colab_type": "text"
      },
      "source": [
        "<a href=\"https://colab.research.google.com/github/jmurillo07/lab-5-jmurillo07/blob/main/Copy_of_DATA_301_Lab_5_Julian_Murillo.ipynb\" target=\"_parent\"><img src=\"https://colab.research.google.com/assets/colab-badge.svg\" alt=\"Open In Colab\"/></a>"
      ]
    },
    {
      "cell_type": "markdown",
      "metadata": {
        "id": "iG3X1KFIBLUK"
      },
      "source": [
        "# Authorship of the Federalist Papers\n",
        "\n",
        "The _Federalist Papers_ were a set of 85 essays published between 1787 and 1788 to promote the ratification of the United States Constitution. They were originally published under the pseudonym \"Publius\". Although the identity of the authors was a closely guarded secret at the time, most of the papers have since been conclusively attributed to one of Hamilton, Jay, or Madison. The known authorships can be found in `https://dlsun.github.io/pods/data/federalist/authorship.csv`.\n",
        "\n",
        "For 15 of the papers, however, the authorships remain disputed. (These papers can be identified from the `authorship.csv` file because the \"Author\" field is blank.) In this analysis, you will use the papers with known authorship to predict the authorships of the disputed papers. The text of each paper is available at `https://dlsun.github.io/pods/data/federalist/x.txt`, where `x` is the number of the paper (i.e., a number from 1 to 85). The name of the file indicates the number of the paper."
      ]
    },
    {
      "cell_type": "code",
      "source": [
        "import pandas as pd\n",
        "import numpy as np\n",
        "import requests\n",
        "from collections import Counter"
      ],
      "metadata": {
        "id": "2CjOT8CK04EU"
      },
      "execution_count": 85,
      "outputs": []
    },
    {
      "cell_type": "code",
      "source": [
        "paper_dir = \"https://dlsun.github.io/pods/data/federalist/\"\n",
        "\n",
        "a_list = list(range(1, 86))\n",
        "\n",
        "fed_files = []\n",
        "\n",
        "for item in a_list:\n",
        "  fed_files.append(paper_dir + str(item) + \".txt\")\n",
        "fed_docs = pd.Series()\n",
        "\n",
        "for file in fed_files:\n",
        "  response = requests.get(file, \"r\")\n",
        "  fed_docs[file[:-4]] = response.text\n"
      ],
      "metadata": {
        "id": "UtN87bP6ps3n",
        "colab": {
          "base_uri": "https://localhost:8080/"
        },
        "outputId": "cf16546b-de07-461a-c661-77b422246514"
      },
      "execution_count": 86,
      "outputs": [
        {
          "output_type": "stream",
          "name": "stderr",
          "text": [
            "/usr/local/lib/python3.7/dist-packages/ipykernel_launcher.py:9: DeprecationWarning: The default dtype for empty Series will be 'object' instead of 'float64' in a future version. Specify a dtype explicitly to silence this warning.\n",
            "  if __name__ == '__main__':\n"
          ]
        }
      ]
    },
    {
      "cell_type": "markdown",
      "metadata": {
        "id": "8YRe6SB3BLUN"
      },
      "source": [
        "## Question 1\n",
        "\n",
        "When analyzing an author's style, common words like \"the\" and \"on\" are actually more useful than rare words like \"hostilities\". That is because rare words typically signify context. Context is useful if you are trying to find documents about similar topics, but not so useful if you are trying to identify an author's style because different authors can write about the same topic. For example, both Dr. Seuss and Charles Dickens used rare words like \"chimney\" and \"stockings\" in _How the Grinch Stole Christmas_ and _A Christmas Carol_, respectively. But they used common words very differently: Dickens used the word \"upon\" over 100 times, while Dr. Seuss did not use \"upon\" even once.\n",
        "\n",
        "Read in the Federalist Papers. Convert each one into a vector of term frequencies. In order to restrict to common words, include only the top 50 words across the corpus. (Because we are restricting to the most common words already, there is no reason to reweight them using TF-IDF.)"
      ]
    },
    {
      "cell_type": "code",
      "source": [
        "from sklearn.metrics.pairwise import cosine_similarity\n",
        "\n",
        "bag_of_words = (\n",
        "    fed_docs.\n",
        "    str.lower().                  # convert all letters to lowercase\n",
        "    str.replace(\"[^\\w\\s]\", \" \").  # replace non-alphanumeric characters by whitespace\n",
        "    str.split()                   # split on whitespace\n",
        ").apply(Counter)\n",
        "\n",
        "for item in bag_of_words:\n",
        "  item = item.most_common(50)\n",
        "\n",
        "bag_of_words\n",
        "\n",
        "tf = pd.DataFrame(list(bag_of_words))\n",
        "tf = tf.fillna(0)\n",
        "tf\n",
        "\n",
        "cosine_similarity(tf)"
      ],
      "metadata": {
        "colab": {
          "base_uri": "https://localhost:8080/"
        },
        "id": "4QCqfWLHuSYp",
        "outputId": "9a471ca4-d947-4eb2-e575-8827b4a3f190"
      },
      "execution_count": 87,
      "outputs": [
        {
          "output_type": "stream",
          "name": "stderr",
          "text": [
            "/usr/local/lib/python3.7/dist-packages/ipykernel_launcher.py:6: FutureWarning: The default value of regex will change from True to False in a future version.\n",
            "  \n"
          ]
        },
        {
          "output_type": "execute_result",
          "data": {
            "text/plain": [
              "array([[1.        , 0.90026522, 0.90406915, ..., 0.93831612, 0.96571914,\n",
              "        0.96221945],\n",
              "       [0.90026522, 1.        , 0.89990041, ..., 0.89640599, 0.89807676,\n",
              "        0.90401206],\n",
              "       [0.90406915, 0.89990041, 1.        , ..., 0.88085012, 0.88933839,\n",
              "        0.88714782],\n",
              "       ...,\n",
              "       [0.93831612, 0.89640599, 0.88085012, ..., 1.        , 0.96137266,\n",
              "        0.96089537],\n",
              "       [0.96571914, 0.89807676, 0.88933839, ..., 0.96137266, 1.        ,\n",
              "        0.9709787 ],\n",
              "       [0.96221945, 0.90401206, 0.88714782, ..., 0.96089537, 0.9709787 ,\n",
              "        1.        ]])"
            ]
          },
          "metadata": {},
          "execution_count": 87
        }
      ]
    },
    {
      "cell_type": "markdown",
      "metadata": {
        "id": "bDLgJQtaHljA"
      },
      "source": [
        "\n",
        "## Question 2\n",
        "Make a visualization that summarizes the most common words used by Hamilton, Madison, and Jay."
      ]
    },
    {
      "cell_type": "code",
      "source": [
        "author_dir = \"https://dlsun.github.io/pods/data/federalist/authorship.csv\"\n",
        "df_author = pd.read_csv(author_dir)\n",
        "\n",
        "df_author = df_author.drop(columns = [\"Paper\"])\n",
        "df_author\n",
        "df_author = df_author.join(tf)\n",
        "\n",
        "# df_jay = df_author[df_author[\"Author\"] == \"Jay\"]\n",
        "# df_madison = df_author[df_author[\"Author\"] == \"Madison\"]\n",
        "# df_hamilton = df_author[df_author[\"Author\"] == \"Hamilton\"]\n",
        "\n",
        "word_totals = df_author.loc[:, df_author.columns!='Author'].sum()\n",
        "word_totals = word_totals.sort_values(ascending = False)\n",
        "top10 = word_totals[:10]\n",
        "top10.plot.bar()"
      ],
      "metadata": {
        "colab": {
          "base_uri": "https://localhost:8080/",
          "height": 502
        },
        "id": "b_qTGy7H8w_z",
        "outputId": "aee3e9c1-d801-4e2d-e358-5e2580e63d27"
      },
      "execution_count": 90,
      "outputs": [
        {
          "output_type": "stream",
          "name": "stdout",
          "text": [
            "Author        NaN\n",
            "to             59\n",
            "the           208\n",
            "people          4\n",
            "of            125\n",
            "             ... \n",
            "trembling     0.0\n",
            "recommence    0.0\n",
            "hume          0.0\n",
            "essays        0.0\n",
            "128           0.0\n",
            "Name: 18, Length: 8635, dtype: object\n"
          ]
        },
        {
          "output_type": "execute_result",
          "data": {
            "text/plain": [
              "<matplotlib.axes._subplots.AxesSubplot at 0x7f2ef5375650>"
            ]
          },
          "metadata": {},
          "execution_count": 90
        },
        {
          "output_type": "display_data",
          "data": {
            "image/png": "[encoded data removed]",
            "text/plain": [
              "<Figure size 432x288 with 1 Axes>"
            ]
          },
          "metadata": {
            "needs_background": "light"
          }
        }
      ]
    },
    {
      "cell_type": "markdown",
      "source": [
        "Above is the bar graph that illustrates the top 10 most common words of the three authors in total through the documents provided."
      ],
      "metadata": {
        "id": "i5pRdqWHC4tF"
      }
    },
    {
      "cell_type": "markdown",
      "metadata": {
        "id": "fh0DzmKrBLUT"
      },
      "source": [
        "## Question 3\n",
        "\n",
        "For each of the documents with disputed authorships, find the 5 most similar documents with _known_ authorships, using cosine distance on the term frequencies. Use the authors of these 5 most similar documents to predict the author of each disputed document. (For example, if 3 of the 5 closest documents were written by Hamilton, 1 by Madison, and 1 by Jay, then we would predict that the disputed document was written by Hamilton.)"
      ]
    },
    {
      "cell_type": "code",
      "source": [
        "df_author = df_author.fillna(\"Unknown\")\n",
        "df_unknown = df_author[df_author[\"Author\"] == \"Unknown\"]\n",
        "idx_list = list(df_unknown.index.values)\n",
        "\n",
        "def most_common(lst):\n",
        "    return max(set(lst), key=lst.count)\n",
        "\n",
        "for idx in idx_list:\n",
        "  arr = pd.DataFrame(cosine_similarity(tf)[idx])\n",
        "  sorted = arr.sort_values(by = 0, ascending = False)\n",
        "  sortedL = sorted.index\n",
        "  authors = []\n",
        "  i = 0\n",
        "  while len(authors) != 5:\n",
        "    tmp = df_author.iloc[sortedL[i]][\"Author\"]\n",
        "    if tmp != \"Unknown\":\n",
        "      authors.append(tmp)\n",
        "    i+=1\n",
        "  print(authors)\n",
        "  print(\"The most similar author to the unknown author for document #\" + str(idx) + \" is: \" + str(most_common(authors)))\n",
        "  \n",
        "\n",
        "\n",
        "\n"
      ],
      "metadata": {
        "colab": {
          "base_uri": "https://localhost:8080/"
        },
        "id": "MrYPmqcWDSdB",
        "outputId": "8001e7c9-1e17-4a8f-c80f-27bf17a6963b"
      },
      "execution_count": 188,
      "outputs": [
        {
          "output_type": "stream",
          "name": "stdout",
          "text": [
            "['Hamilton', 'Madison', 'Hamilton', 'Madison', 'Madison']\n",
            "The most similar author to the unknown author for document #17 is: Madison\n",
            "['Hamilton', 'Madison', 'Madison', 'Hamilton', 'Hamilton']\n",
            "The most similar author to the unknown author for document #18 is: Hamilton\n",
            "['Madison', 'Madison', 'Madison', 'Hamilton', 'Hamilton']\n",
            "The most similar author to the unknown author for document #19 is: Madison\n",
            "['Hamilton', 'Madison', 'Madison', 'Hamilton', 'Madison']\n",
            "The most similar author to the unknown author for document #48 is: Madison\n",
            "['Madison', 'Madison', 'Madison', 'Madison', 'Madison']\n",
            "The most similar author to the unknown author for document #49 is: Madison\n",
            "['Madison', 'Madison', 'Madison', 'Hamilton', 'Madison']\n",
            "The most similar author to the unknown author for document #50 is: Madison\n",
            "['Madison', 'Madison', 'Hamilton', 'Madison', 'Hamilton']\n",
            "The most similar author to the unknown author for document #51 is: Madison\n",
            "['Madison', 'Madison', 'Hamilton', 'Madison', 'Madison']\n",
            "The most similar author to the unknown author for document #52 is: Madison\n",
            "['Madison', 'Madison', 'Hamilton', 'Hamilton', 'Hamilton']\n",
            "The most similar author to the unknown author for document #53 is: Hamilton\n",
            "['Hamilton', 'Madison', 'Madison', 'Hamilton', 'Hamilton']\n",
            "The most similar author to the unknown author for document #54 is: Hamilton\n",
            "['Hamilton', 'Hamilton', 'Hamilton', 'Hamilton', 'Madison']\n",
            "The most similar author to the unknown author for document #55 is: Hamilton\n",
            "['Hamilton', 'Madison', 'Madison', 'Madison', 'Hamilton']\n",
            "The most similar author to the unknown author for document #56 is: Madison\n",
            "['Madison', 'Madison', 'Madison', 'Hamilton', 'Hamilton']\n",
            "The most similar author to the unknown author for document #57 is: Madison\n",
            "['Madison', 'Hamilton', 'Madison', 'Madison', 'Madison']\n",
            "The most similar author to the unknown author for document #61 is: Madison\n",
            "['Madison', 'Madison', 'Hamilton', 'Madison', 'Madison']\n",
            "The most similar author to the unknown author for document #62 is: Madison\n"
          ]
        }
      ]
    },
    {
      "cell_type": "markdown",
      "metadata": {
        "id": "8Ng3BgkXBLUw"
      },
      "source": [
        "## Submission Instructions\n",
        "\n",
        "- Copy this notebook to your own Drive, if you have not already.\n",
        "- Restart this notebook and run the cells from beginning to end. \n",
        "  - Go to Runtime > Restart and Run All.\n",
        "- Rename this notebook by clicking on \"DATA 301 Lab 5 - YOUR NAMES HERE\" at the very top of this page. Replace \"YOUR NAMES HERE\" with the first and last names of you (and your partners, for Phase 2).\n",
        "- Get the link to your notebook:\n",
        "  - Click on \"Share\" at the top-right. \n",
        "  - Change the settings to \"Anyone with the link can view\". \n",
        "  - Copy the sharing link into Canvas."
      ]
    }
  ]
}